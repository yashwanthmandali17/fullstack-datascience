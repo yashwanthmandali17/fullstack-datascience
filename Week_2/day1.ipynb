{
 "cells": [
  {
   "cell_type": "code",
   "execution_count": null,
   "id": "017d1547",
   "metadata": {},
   "outputs": [
    {
     "name": "stdout",
     "output_type": "stream",
     "text": [
      "[2, 3, 5, 7, 11, 13, 17, 19]\n"
     ]
    }
   ],
   "source": [
    "# Prime Number Finder\n",
    "def prime(n):\n",
    "    result = []\n",
    "    for i in range(2, n + 1):\n",
    "        c = 0\n",
    "        for j in range(1, i + 1):\n",
    "            if i % j == 0:\n",
    "                c += 1\n",
    "        if c == 2:\n",
    "            result.append(i)\n",
    "    return result\n",
    "n = int(input(\"number: \"))\n",
    "print(prime(n))"
   ]
  },
  {
   "cell_type": "code",
   "execution_count": null,
   "id": "87d00ca0",
   "metadata": {},
   "outputs": [
    {
     "name": "stdout",
     "output_type": "stream",
     "text": [
      "true\n"
     ]
    }
   ],
   "source": [
    "# Palindrome Checker\n",
    "str1=input(\"string:\")\n",
    "str2=str1[::-1]\n",
    "if(str1==str2):\n",
    "    print(\"true\")\n",
    "else:\n",
    "    print(\"false\")"
   ]
  },
  {
   "cell_type": "code",
   "execution_count": null,
   "id": "89b489c9",
   "metadata": {},
   "outputs": [
    {
     "name": "stdout",
     "output_type": "stream",
     "text": [
      "true\n"
     ]
    }
   ],
   "source": [
    "# Anagram Checker\n",
    "def anagram(n1,n2):\n",
    "    l1=[]\n",
    "    l2=[]\n",
    "    l1.append(n1)\n",
    "    l2.append(n2)\n",
    "    a=l1.sort()\n",
    "    b=l2.sort()\n",
    "    if(a==b):\n",
    "        print(\"true\")\n",
    "    else:\n",
    "        print(\"false\")\n",
    "s1=input('word1')\n",
    "s2=input('word2')\n",
    "anagram(s1,s2)"
   ]
  },
  {
   "cell_type": "code",
   "execution_count": 8,
   "id": "5744464d",
   "metadata": {},
   "outputs": [
    {
     "name": "stdout",
     "output_type": "stream",
     "text": [
      "Vowels=2 and Consonants=4\n"
     ]
    }
   ],
   "source": [
    "# Count Vowels & Consonants\n",
    "n=input('word')\n",
    "vc=0\n",
    "cc=0\n",
    "for ch in n:\n",
    "    if ch in ['a','e','i','o','u']:\n",
    "        vc+=1\n",
    "    else:\n",
    "        cc+=1\n",
    "print(f'Vowels={vc} and Consonants={cc}')"
   ]
  },
  {
   "cell_type": "code",
   "execution_count": 10,
   "id": "6cf5ad89",
   "metadata": {},
   "outputs": [
    {
     "name": "stdout",
     "output_type": "stream",
     "text": [
      "amazing\n"
     ]
    }
   ],
   "source": [
    "# Longest Word Finder\n",
    "def long(line):\n",
    "    words=line.split()\n",
    "    long=\"\"\n",
    "    for w in words:\n",
    "        if len(w)>len(long):\n",
    "            long=w\n",
    "    return long\n",
    "print(long('Python is amazing'))"
   ]
  },
  {
   "cell_type": "code",
   "execution_count": 23,
   "id": "2ae4d942",
   "metadata": {},
   "outputs": [
    {
     "name": "stdout",
     "output_type": "stream",
     "text": [
      "gWgFbt\n"
     ]
    }
   ],
   "source": [
    "# Random Password Generator\n",
    "import random\n",
    "import string\n",
    "def generate_password(length=6):\n",
    "    chars = string.ascii_letters + string.digits + string.punctuation\n",
    "    password = ''.join(random.choice(chars) for _ in range(length))\n",
    "    return password\n",
    "print(generate_password(6))"
   ]
  },
  {
   "cell_type": "code",
   "execution_count": null,
   "id": "e63e4275",
   "metadata": {},
   "outputs": [
    {
     "name": "stdout",
     "output_type": "stream",
     "text": [
      "5.0\n"
     ]
    }
   ],
   "source": [
    "# Simple Calculator\n",
    "import math\n",
    "ch=input('choice=>sqrt,fact,sin,cos')\n",
    "n=int(input('number'))\n",
    "match ch:\n",
    "    case 'sqrt':\n",
    "        print(math.sqrt(n))\n",
    "    case 'fact':\n",
    "        print(math.factorial(n))\n",
    "    case 'sin':\n",
    "        print(math.sin(n))\n",
    "    case 'cos':\n",
    "        print(math.cos(n))\n",
    "    case default:\n",
    "        print('invalid')"
   ]
  },
  {
   "cell_type": "code",
   "execution_count": 17,
   "id": "6fb13be6",
   "metadata": {},
   "outputs": [
    {
     "name": "stdout",
     "output_type": "stream",
     "text": [
      "{'cat': 2, 'dog': 1}\n"
     ]
    }
   ],
   "source": [
    "# Word Frequency Counter\n",
    "from collections import Counter\n",
    "def word_frequency(text):\n",
    "    words = text.split()\n",
    "    return dict(Counter(words))\n",
    "print(word_frequency(\"cat dog cat\"))"
   ]
  },
  {
   "cell_type": "code",
   "execution_count": 24,
   "id": "08e2f778",
   "metadata": {},
   "outputs": [
    {
     "name": "stdout",
     "output_type": "stream",
     "text": [
      "Weather: Sunny, Temp: 26°C\n"
     ]
    }
   ],
   "source": [
    "# Weather Simulator\n",
    "import random\n",
    "def weather_simulator():\n",
    "    conditions = [\"Sunny\", \"Rainy\", \"Cloudy\", \"Stormy\"]\n",
    "    temperature = random.randint(20, 40)\n",
    "    condition = random.choice(conditions)\n",
    "    return f\"Weather: {condition}, Temp: {temperature}°C\"\n",
    "print(weather_simulator())"
   ]
  },
  {
   "cell_type": "code",
   "execution_count": null,
   "id": "0119f710",
   "metadata": {},
   "outputs": [
    {
     "name": "stdout",
     "output_type": "stream",
     "text": [
      "5\n",
      "4\n",
      "3\n",
      "2\n",
      "1\n",
      "Time’s up!\n"
     ]
    }
   ],
   "source": [
    "# Timer Program\n",
    "import time\n",
    "def countdown(seconds):\n",
    "    while seconds>0:\n",
    "        print(seconds)\n",
    "        time.sleep(1)\n",
    "        seconds-=1\n",
    "    print(\"Time’s up!\")\n",
    "countdown(5)"
   ]
  },
  {
   "cell_type": "code",
   "execution_count": null,
   "id": "2c58179f",
   "metadata": {},
   "outputs": [
    {
     "name": "stdout",
     "output_type": "stream",
     "text": [
      "120\n"
     ]
    }
   ],
   "source": [
    "# Bank Account Class\n",
    "class Bank:\n",
    "    def __init__(self,bal=0):\n",
    "        self.bal=bal\n",
    "    def deposit(self,amt):\n",
    "        if amt>0:\n",
    "            self.bal+=amt\n",
    "        else:\n",
    "            print('invalid')\n",
    "    def withdraw(self,amt):\n",
    "        if amt<self.bal:\n",
    "            self.bal-=amt\n",
    "        else:\n",
    "            print('insufficent')\n",
    "    def getbal(self):\n",
    "        print(self.bal)\n",
    "acc=Bank(100)\n",
    "acc.deposit(50)\n",
    "acc.withdraw(30)\n",
    "acc.getbal()"
   ]
  },
  {
   "cell_type": "code",
   "execution_count": null,
   "id": "91e016de",
   "metadata": {},
   "outputs": [
    {
     "name": "stdout",
     "output_type": "stream",
     "text": [
      "85.0\n",
      "95\n",
      "80\n"
     ]
    }
   ],
   "source": [
    "# Student Class with Average\n",
    "class Student:\n",
    "    def __init__(self,name,marks):\n",
    "        self.name=name\n",
    "        self.marks=marks if marks else []\n",
    "    def avg(self):\n",
    "        return sum(self.marks)/len(self.marks)\n",
    "    def add(self,mark):\n",
    "        self.marks.append(mark)\n",
    "    def highest(self):\n",
    "        return max(self.marks)\n",
    "    def lowest(self):\n",
    "        return min(self.marks)\n",
    "s=Student(\"Tom\",[90, 80, 85])\n",
    "print(s.avg())\n",
    "s.add(95)\n",
    "print(s.highest())\n",
    "print(s.lowest())"
   ]
  },
  {
   "cell_type": "code",
   "execution_count": 4,
   "id": "445eca70",
   "metadata": {},
   "outputs": [
    {
     "name": "stdout",
     "output_type": "stream",
     "text": [
      "10000.0\n",
      "4000.0\n"
     ]
    }
   ],
   "source": [
    "# Employee Bonus System\n",
    "class Employee:\n",
    "    def __init__(self,name,salary,role):\n",
    "        self.name=name\n",
    "        self.salary=salary\n",
    "        self.role=role\n",
    "    def bonus(self):\n",
    "        return 0\n",
    "class Manager(Employee):\n",
    "    def __init__(self,name,salary):\n",
    "        super().__init__(name,salary,'Manager')\n",
    "    def bonus(self):\n",
    "        return self.salary*0.2\n",
    "class Developer(Employee):\n",
    "    def __init__(self, name, salary):\n",
    "        super().__init__(name, salary,'Developer')\n",
    "    def bonus(self):\n",
    "        return self.salary*0.1\n",
    "class Intern(Employee):\n",
    "    def __init__(self, name, salary,):\n",
    "        super().__init__(name, salary,'Intern')\n",
    "    def bonus(self):\n",
    "        return self.salary*0.05\n",
    "m = Manager(\"Alice\", 50000)\n",
    "print(m.bonus())\n",
    "n = Developer(\"Bob\", 40000)\n",
    "print(n.bonus())"
   ]
  },
  {
   "cell_type": "code",
   "execution_count": 6,
   "id": "70d6a90e",
   "metadata": {},
   "outputs": [
    {
     "name": "stdout",
     "output_type": "stream",
     "text": [
      "153.86\n",
      "20\n"
     ]
    }
   ],
   "source": [
    "# Shape Area Calculator\n",
    "class Shape:\n",
    "    def __init__(self,name):\n",
    "        self.name=name\n",
    "    def area(self):\n",
    "        return 0\n",
    "class Circle(Shape):\n",
    "    def __init__(self,radius):\n",
    "        self.radius=radius\n",
    "        super().__init__('Circle')\n",
    "    def area(self):\n",
    "        return 3.14*(self.radius**2)\n",
    "class Rectangle(Shape):\n",
    "    def __init__(self,width,height):\n",
    "        self.width=width\n",
    "        self.height=height\n",
    "        super().__init__('Rectangle')\n",
    "    def area(self):\n",
    "        return self.width*self.height\n",
    "c = Circle(7)\n",
    "print(c.area())\n",
    "r = Rectangle(4, 5)\n",
    "print(r.area())"
   ]
  },
  {
   "cell_type": "code",
   "execution_count": 9,
   "id": "202c8e3d",
   "metadata": {},
   "outputs": [
    {
     "name": "stdout",
     "output_type": "stream",
     "text": [
      "2000\n"
     ]
    }
   ],
   "source": [
    "# E-commerce Order Class\n",
    "class Order:\n",
    "    def __init__(self):\n",
    "        self.items={}\n",
    "    def add(self,item,price):\n",
    "        self.items[item]=price\n",
    "    def remove(self,item):\n",
    "        if item in self.items:\n",
    "            del self.items[item]\n",
    "            print('Removed')\n",
    "    def total(self):\n",
    "        tot=sum(self.items.values())\n",
    "        return tot\n",
    "    def show(self):\n",
    "        if not self.items:\n",
    "            return 'No items'\n",
    "        result = \"\"\n",
    "        for item, price in self.items.items():\n",
    "            result += item + \": \" + str(price) + \"\\n\"\n",
    "        return result.strip()\n",
    "order = Order()\n",
    "order.add(\"Shirt\", 500)\n",
    "order.add(\"Shoes\", 1500)\n",
    "print(order.total())"
   ]
  },
  {
   "cell_type": "code",
   "execution_count": 13,
   "id": "88d987b6",
   "metadata": {},
   "outputs": [
    {
     "name": "stdout",
     "output_type": "stream",
     "text": [
      "[0, 1, 1, 2, 3, 5, 8]\n"
     ]
    }
   ],
   "source": [
    "# Fibonacci Generator\n",
    "def fibonacci(n):\n",
    "    if n <= 0:\n",
    "        return []\n",
    "    fib = [0]\n",
    "    if n == 1:\n",
    "        return fib\n",
    "    fib.append(1)\n",
    "    for i in range(2, n):\n",
    "        fib.append(fib[i-1] + fib[i-2])\n",
    "    return fib\n",
    "a=int(input('number'))\n",
    "print(fibonacci(a))"
   ]
  },
  {
   "cell_type": "code",
   "execution_count": 16,
   "id": "423a5b77",
   "metadata": {},
   "outputs": [
    {
     "data": {
      "text/plain": [
       "24"
      ]
     },
     "execution_count": 16,
     "metadata": {},
     "output_type": "execute_result"
    }
   ],
   "source": [
    "# Factorial Using Recursion\n",
    "def fact(n):\n",
    "    if n==1:\n",
    "        return 1\n",
    "    else:\n",
    "        return n*fact(n-1)\n",
    "num=int(input('number'))\n",
    "fact(num)"
   ]
  },
  {
   "cell_type": "code",
   "execution_count": 17,
   "id": "0c7c0186",
   "metadata": {},
   "outputs": [
    {
     "name": "stdout",
     "output_type": "stream",
     "text": [
      "{'apple': 2, 'banana': 2, 'orange': 1}\n"
     ]
    }
   ],
   "source": [
    "# Unique Words Counter\n",
    "def counter(sentence):\n",
    "    words = sentence.split()\n",
    "    freq = {}\n",
    "    for word in words:\n",
    "        if word in freq:\n",
    "            freq[word] += 1\n",
    "        else:\n",
    "            freq[word] = 1\n",
    "    return freq\n",
    "text = \"apple banana apple orange banana\"\n",
    "print(counter(text))"
   ]
  },
  {
   "cell_type": "code",
   "execution_count": 18,
   "id": "9c52161a",
   "metadata": {},
   "outputs": [
    {
     "name": "stdout",
     "output_type": "stream",
     "text": [
      "Grade: A\n"
     ]
    }
   ],
   "source": [
    "# Grade Calculator\n",
    "def grade(marks):\n",
    "    avg = sum(marks) / len(marks)\n",
    "    if avg >= 90:\n",
    "        grade = \"A+\"\n",
    "    elif avg >= 80:\n",
    "        grade = \"A\"\n",
    "    elif avg >= 70:\n",
    "        grade = \"B\"\n",
    "    elif avg >= 60:\n",
    "        grade = \"C\"\n",
    "    elif avg >= 50:\n",
    "        grade = \"D\"\n",
    "    else:\n",
    "        grade = \"F\"\n",
    "    return f\"Grade: {grade}\"\n",
    "print(grade([85, 90, 78]))"
   ]
  },
  {
   "cell_type": "code",
   "execution_count": 20,
   "id": "2df956e2",
   "metadata": {},
   "outputs": [
    {
     "name": "stdout",
     "output_type": "stream",
     "text": [
      "10\n"
     ]
    }
   ],
   "source": [
    "# Second Largest Number\n",
    "def second(num):\n",
    "    m=max(num)\n",
    "    num.remove(m)\n",
    "    return max(num)\n",
    "print(second([10, 5, 20, 8]))"
   ]
  },
  {
   "cell_type": "code",
   "execution_count": 38,
   "id": "223d6df2",
   "metadata": {},
   "outputs": [
    {
     "name": "stdout",
     "output_type": "stream",
     "text": [
      "Text files: 0\n",
      "Python files: 1\n"
     ]
    }
   ],
   "source": [
    "# Count Files by Extension\n",
    "import os\n",
    "def count():\n",
    "    files = os.listdir(\".\")\n",
    "    tc=0\n",
    "    pc=0\n",
    "    for file in files:\n",
    "        if file.endswith(\".txt\"):\n",
    "            tc+= 1\n",
    "        elif file.endswith(\".py\"):\n",
    "            pc+= 1\n",
    "    print(\"Text files:\",tc)\n",
    "    print(\"Python files:\",pc)\n",
    "count()"
   ]
  },
  {
   "cell_type": "code",
   "execution_count": 22,
   "id": "5d9fde83",
   "metadata": {},
   "outputs": [
    {
     "name": "stdout",
     "output_type": "stream",
     "text": [
      "87.85714285714286\n",
      "90\n",
      "73.80952380952381\n"
     ]
    }
   ],
   "source": [
    "# Exam Score Analysis\n",
    "import statistics as stat\n",
    "scores = [75, 80, 90, 100, 85, 90, 95]\n",
    "print(stat.mean(scores))\n",
    "print(stat.median(scores))\n",
    "print(stat.variance(scores))"
   ]
  },
  {
   "cell_type": "code",
   "execution_count": 23,
   "id": "7a95ad93",
   "metadata": {},
   "outputs": [
    {
     "name": "stdout",
     "output_type": "stream",
     "text": [
      "Roots are: 2.0 and 1.0\n"
     ]
    }
   ],
   "source": [
    "# Quadratic Equation Solver\n",
    "import math\n",
    "def quadratic(a, b, c):\n",
    "    discriminant=b**2-4*a*c\n",
    "    if discriminant < 0:\n",
    "        return \"No real roots\"\n",
    "    elif discriminant == 0:\n",
    "        root = -b / (2*a)\n",
    "        return f\"Roots are: {root}\"\n",
    "    else:\n",
    "        r1 = (-b + math.sqrt(discriminant)) / (2*a)\n",
    "        r2 = (-b - math.sqrt(discriminant)) / (2*a)\n",
    "        return f\"Roots are: {r1} and {r2}\"\n",
    "print(quadratic(1, -3, 2))"
   ]
  },
  {
   "cell_type": "code",
   "execution_count": 33,
   "id": "172891e4",
   "metadata": {},
   "outputs": [
    {
     "name": "stdout",
     "output_type": "stream",
     "text": [
      "You chose Rock, Computer chose Scissors\n",
      "You Win!\n"
     ]
    }
   ],
   "source": [
    "# Rock Paper Scissors Game\n",
    "import random\n",
    "def game(user_choice):\n",
    "    choices = [\"Rock\", \"Paper\", \"Scissors\"]\n",
    "    computer_choice = random.choice(choices)\n",
    "    print(f\"You chose {user_choice}, Computer chose {computer_choice}\")\n",
    "    if user_choice == computer_choice:\n",
    "        return \"Tie\"\n",
    "    elif (user_choice == \"Rock\" and computer_choice == \"Scissors\") or \\\n",
    "         (user_choice == \"Scissors\" and computer_choice == \"Paper\") or \\\n",
    "         (user_choice == \"Paper\" and computer_choice == \"Rock\"):\n",
    "        return \"You Win!\"\n",
    "    else:\n",
    "        return \"You Lose!\"\n",
    "user = \"Rock\"\n",
    "print(game(user))"
   ]
  },
  {
   "cell_type": "code",
   "execution_count": 39,
   "id": "3e09b6a3",
   "metadata": {},
   "outputs": [
    {
     "name": "stdout",
     "output_type": "stream",
     "text": [
      "Sum = 30\n"
     ]
    }
   ],
   "source": [
    "# Sum from Command Line\n",
    "import sys\n",
    "sys.argv = [\"add.py\", \"5\", \"10\", \"15\"]\n",
    "num1 = int(sys.argv[1])\n",
    "num2 = int(sys.argv[2])\n",
    "num3 = int(sys.argv[3])\n",
    "total = num1 + num2 + num3\n",
    "print('Sum =', total)"
   ]
  },
  {
   "cell_type": "code",
   "execution_count": 43,
   "id": "519888f7",
   "metadata": {},
   "outputs": [
    {
     "name": "stdout",
     "output_type": "stream",
     "text": [
      "borrowed\n",
      "added\n",
      "{'Python 101': 3, 'Data Science': 2}\n"
     ]
    }
   ],
   "source": [
    "# Library System\n",
    "class Library:\n",
    "    def __init__(self,books):\n",
    "        self.books=books\n",
    "    def borrow(self,title):\n",
    "        if title in self.books and self.books[title] > 0:\n",
    "            self.books[title] -= 1\n",
    "            return 'borrowed'\n",
    "    def returnbook(self,title):\n",
    "        if title in self.books:\n",
    "            self.books[title]+=1\n",
    "        else:\n",
    "            self.book[title]=1\n",
    "        return 'added'\n",
    "    def show(self):\n",
    "        print(self.books)\n",
    "lib = Library({\"Python 101\": 3, \"Data Science\": 2})\n",
    "print(lib.borrow(\"Python 101\"))\n",
    "print(lib.returnbook(\"Python 101\"))\n",
    "lib.show()"
   ]
  },
  {
   "cell_type": "code",
   "execution_count": 46,
   "id": "8df9e423",
   "metadata": {},
   "outputs": [
    {
     "name": "stdout",
     "output_type": "stream",
     "text": [
      "Granted\n",
      "('deposited', 200)\n",
      "('withdraw', 100)\n",
      "600\n"
     ]
    }
   ],
   "source": [
    "# ATM Machine with PIN\n",
    "class ATM:\n",
    "    def __init__(self,pin,bal):\n",
    "        self.bal=bal\n",
    "        self.pin=pin\n",
    "        self.authentication=False\n",
    "    def login(self,pin):\n",
    "        if pin==self.pin:\n",
    "            self.authentication=True\n",
    "            return 'Granted'\n",
    "        else:\n",
    "            return 'Denied'\n",
    "    def balance(self):\n",
    "        if self.authentication:\n",
    "            return self.bal\n",
    "        else:\n",
    "            return 'login'\n",
    "    def deposit(self,amt):\n",
    "        if self.authentication:\n",
    "            self.bal+=amt\n",
    "            return 'deposited',amt\n",
    "    def withdraw(self,amt):\n",
    "        if self.authentication:\n",
    "            if self.bal>amt:\n",
    "                self.bal-=amt\n",
    "            return 'withdraw',amt\n",
    "        else:\n",
    "            return'login'\n",
    "atm = ATM(1234,500)\n",
    "print(atm.login(1234))\n",
    "print(atm.deposit(200))\n",
    "print(atm.withdraw(100))\n",
    "print(atm.balance())"
   ]
  },
  {
   "cell_type": "code",
   "execution_count": 51,
   "id": "5e1b9bf6",
   "metadata": {},
   "outputs": [
    {
     "name": "stdout",
     "output_type": "stream",
     "text": [
      "Dr. Smith is teaching Python\n",
      "Alice enrolled in:Python\n",
      "Dr. Smith assigned:Project 1\n",
      "Alice submitted: Project 1\n"
     ]
    }
   ],
   "source": [
    "# University System\n",
    "class Professor:\n",
    "    def __init__(self,name,subject):\n",
    "        self.name=name\n",
    "        self.subject=subject\n",
    "    def teach(self,course):\n",
    "        self.course=course\n",
    "        return f\"{self.name} is teaching {self.course}\"\n",
    "    def give_assignment(self,task):\n",
    "        self.task=task\n",
    "        return f\"{self.name} assigned:{self.task}\"\n",
    "class Student:\n",
    "    def __init__(self,name):\n",
    "        self.name=name\n",
    "    def enroll(self,course):\n",
    "        self.course=course\n",
    "        return f\"{self.name} enrolled in:{self.course}\"\n",
    "    def submit_assignment(self,task):\n",
    "        self.task=task\n",
    "        return f\"{self.name} submitted: {self.task}\"\n",
    "prof = Professor(\"Dr. Smith\", \"Computer Science\")\n",
    "stud = Student(\"Alice\")\n",
    "print(prof.teach(\"Python\"))\n",
    "print(stud.enroll(\"Python\"))\n",
    "print(prof.give_assignment(\"Project 1\"))\n",
    "print(stud.submit_assignment(\"Project 1\"))"
   ]
  },
  {
   "cell_type": "code",
   "execution_count": 52,
   "id": "a847c30e",
   "metadata": {},
   "outputs": [
    {
     "name": "stdout",
     "output_type": "stream",
     "text": [
      "booked 2 tickets for Avatar\n",
      "Cancelled 1 for Avatar\n",
      "{'Avatar': 9, 'Batman': 5}\n"
     ]
    }
   ],
   "source": [
    "# Movie Ticket Booking\n",
    "class Cinema:\n",
    "    def __init__(self,movies):\n",
    "        self.movies=movies\n",
    "    def book(self,movie,seats):\n",
    "        if movie in self.movies and self.movies[movie]>=seats:\n",
    "            self.movies[movie]-=seats\n",
    "            return f\"booked {seats} tickets for {movie}\"\n",
    "        else:\n",
    "            return \"no seats\"\n",
    "    def cancel(self,movie,seats):\n",
    "        if movie in self.movies:\n",
    "            self.movies[movie]+=seats\n",
    "            return f\"Cancelled {seats} for {movie}\"\n",
    "        else:\n",
    "            return f\"not available\"\n",
    "    def show(self):\n",
    "        print(self.movies)\n",
    "cinema = Cinema({\"Avatar\": 10, \"Batman\": 5})\n",
    "print(cinema.book(\"Avatar\", 2))\n",
    "print(cinema.cancel(\"Avatar\", 1))\n",
    "cinema.show()"
   ]
  },
  {
   "cell_type": "code",
   "execution_count": 56,
   "id": "60eeedfa",
   "metadata": {},
   "outputs": [
    {
     "name": "stdout",
     "output_type": "stream",
     "text": [
      "Burger added\n",
      "Pizza added\n",
      "Pizza price updated\n",
      "Burger removed\n",
      "{'Pizza': 250}\n"
     ]
    }
   ],
   "source": [
    "# Restaurant Menu\n",
    "class Menu:\n",
    "    def __init__(self):\n",
    "        self.items={}\n",
    "    def add(self,name,price):\n",
    "        self.items[name]=price\n",
    "        return f\"{name} added\"\n",
    "    def remove(self,name):\n",
    "        if name in self.items:\n",
    "            del self.items[name]\n",
    "            return f\"{name} removed\"\n",
    "        else:\n",
    "            return f\"{name} not exist\"\n",
    "    def update_price(self,name,new_price):\n",
    "        if name in self.items:\n",
    "            self.items[name]=new_price\n",
    "            return f\"{name} price updated\"\n",
    "        else:\n",
    "            return f\"{name} not exist\"\n",
    "    def show(self):\n",
    "        return self.items\n",
    "menu=Menu()\n",
    "print(menu.add(\"Burger\", 100))\n",
    "print(menu.add(\"Pizza\", 200))\n",
    "print(menu.update_price(\"Pizza\", 250))\n",
    "print(menu.remove(\"Burger\"))\n",
    "print(menu.show())"
   ]
  }
 ],
 "metadata": {
  "kernelspec": {
   "display_name": "Python 3",
   "language": "python",
   "name": "python3"
  },
  "language_info": {
   "codemirror_mode": {
    "name": "ipython",
    "version": 3
   },
   "file_extension": ".py",
   "mimetype": "text/x-python",
   "name": "python",
   "nbconvert_exporter": "python",
   "pygments_lexer": "ipython3",
   "version": "3.11.0"
  }
 },
 "nbformat": 4,
 "nbformat_minor": 5
}
