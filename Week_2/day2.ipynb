{
 "cells": [
  {
   "cell_type": "code",
   "execution_count": null,
   "id": "70c9ad01",
   "metadata": {},
   "outputs": [
    {
     "name": "stdout",
     "output_type": "stream",
     "text": [
      "10\n"
     ]
    }
   ],
   "source": [
    "# number of words in a file\n",
    "with open('file1.txt','r') as f:\n",
    "    text=f.read()\n",
    "    words=text.split()\n",
    "    print(len(words))"
   ]
  },
  {
   "cell_type": "code",
   "execution_count": 22,
   "id": "2f0e67a8",
   "metadata": {},
   "outputs": [
    {
     "name": "stdout",
     "output_type": "stream",
     "text": [
      "strong\n"
     ]
    }
   ],
   "source": [
    "# check if a password is strong\n",
    "def check(word):\n",
    "    if len(word)>8:\n",
    "        u=0\n",
    "        l=0\n",
    "        d=0\n",
    "        s=0\n",
    "        for ch in word:\n",
    "            if ch.isupper():\n",
    "                u=1\n",
    "            elif ch.islower():\n",
    "                l=1\n",
    "            elif ch.isdigit():\n",
    "                d=1\n",
    "            else:\n",
    "                s=1\n",
    "    else:\n",
    "        print('length<8')\n",
    "    if u and l and d and s:\n",
    "        print(\"strong\")\n",
    "    else:\n",
    "        print('weak')\n",
    "password=input('word?')\n",
    "check(password)"
   ]
  },
  {
   "cell_type": "code",
   "execution_count": 23,
   "id": "ad0d365d",
   "metadata": {},
   "outputs": [
    {
     "name": "stdout",
     "output_type": "stream",
     "text": [
      "12\n"
     ]
    }
   ],
   "source": [
    "# calculator\n",
    "n1=int(input('number1:'))\n",
    "n2=int(input('number2:'))\n",
    "ch=input('choice')\n",
    "match ch:\n",
    "    case '+':\n",
    "        print(n1+n2)\n",
    "    case '-':\n",
    "        print(n1-n2)\n",
    "    case '*':\n",
    "        print(n1*n2)\n",
    "    case '/':\n",
    "        print(n1//n2)\n",
    "    case default:\n",
    "        print('invalid')"
   ]
  },
  {
   "cell_type": "code",
   "execution_count": 26,
   "id": "4d2749ca",
   "metadata": {},
   "outputs": [
    {
     "name": "stdout",
     "output_type": "stream",
     "text": [
      "ram\n"
     ]
    }
   ],
   "source": [
    "# find duplicates\n",
    "from collections import Counter\n",
    "names=input('names:').split()\n",
    "count=Counter(names)\n",
    "for key,val in count.items():\n",
    "    if val>1:\n",
    "        print(key)"
   ]
  },
  {
   "cell_type": "code",
   "execution_count": 31,
   "id": "cec39c5c",
   "metadata": {},
   "outputs": [
    {
     "name": "stdout",
     "output_type": "stream",
     "text": [
      "77.0\n"
     ]
    }
   ],
   "source": [
    "# Celsius and Fahrenheit\n",
    "n = int(input(\"Temp: \"))\n",
    "scale = input(\"c or f\")\n",
    "if scale== \"c\":\n",
    "    temp=(n*9/5)+32\n",
    "    print(temp)\n",
    "elif scale==\"f\":\n",
    "    temp=(n-32)*5/9\n",
    "    print(temp)\n",
    "else:\n",
    "    print(\"Invalid scale\")"
   ]
  },
  {
   "cell_type": "code",
   "execution_count": 35,
   "id": "ab05f277",
   "metadata": {},
   "outputs": [
    {
     "name": "stdout",
     "output_type": "stream",
     "text": [
      "22\n"
     ]
    }
   ],
   "source": [
    "# largest number from a list of integers\n",
    "n=list(map(int,input().split()))\n",
    "print(max(n))"
   ]
  },
  {
   "cell_type": "code",
   "execution_count": 36,
   "id": "92fe3134",
   "metadata": {},
   "outputs": [
    {
     "name": "stdout",
     "output_type": "stream",
     "text": [
      "20.0\n"
     ]
    }
   ],
   "source": [
    "# Simple Interest\n",
    "p=int(input('principle'))\n",
    "r=int(input('rate'))\n",
    "t=int(input('time'))\n",
    "si=(p*r*t)/100\n",
    "print(si)"
   ]
  },
  {
   "cell_type": "code",
   "execution_count": 44,
   "id": "df0a385d",
   "metadata": {},
   "outputs": [
    {
     "name": "stdout",
     "output_type": "stream",
     "text": [
      "{'qwert': 88, 'asdf': 45, 'zxcv': 77, 'sdfrc': 66}\n",
      "asdf\n",
      "sdfrc\n"
     ]
    }
   ],
   "source": [
    "# dictionary of student names and attendance\n",
    "dict={}\n",
    "n=int(input('items?'))\n",
    "for _ in range(n):\n",
    "    k,v=input('key value:').split()\n",
    "    dict[k]=int(v)\n",
    "print(dict)\n",
    "for k,v in dict.items():\n",
    "    if v<75:\n",
    "        print(k)"
   ]
  },
  {
   "cell_type": "code",
   "execution_count": 51,
   "id": "bab27ff0",
   "metadata": {},
   "outputs": [
    {
     "name": "stdout",
     "output_type": "stream",
     "text": [
      "10\n"
     ]
    }
   ],
   "source": [
    "# sum of digits\n",
    "n=int(input('number'))\n",
    "c=0\n",
    "while(n>0):\n",
    "    n1=n%10\n",
    "    c+=n1\n",
    "    n//=10\n",
    "print(c)"
   ]
  },
  {
   "cell_type": "code",
   "execution_count": 52,
   "id": "46655277",
   "metadata": {},
   "outputs": [
    {
     "name": "stdout",
     "output_type": "stream",
     "text": [
      "prime\n"
     ]
    }
   ],
   "source": [
    "# function to check prime number\n",
    "def prime(num):\n",
    "    if num>1:\n",
    "        c=0\n",
    "        for i in range(1,num+1):\n",
    "            if num%i==0:\n",
    "                c==1\n",
    "        if c>2:\n",
    "            print('not prime')\n",
    "        else:\n",
    "            print('prime')\n",
    "    else:\n",
    "        print('<1')\n",
    "n=int(input('num'))\n",
    "prime(n)"
   ]
  },
  {
   "cell_type": "code",
   "execution_count": 53,
   "id": "b0e2760c",
   "metadata": {},
   "outputs": [
    {
     "name": "stdout",
     "output_type": "stream",
     "text": [
      "7\n",
      "21\n"
     ]
    }
   ],
   "source": [
    "# smallest and largest numbers from a list\n",
    "n=list(map(int,input().split()))\n",
    "print(min(n))\n",
    "print(max(n))"
   ]
  },
  {
   "cell_type": "code",
   "execution_count": 56,
   "id": "282e2fee",
   "metadata": {},
   "outputs": [
    {
     "name": "stdout",
     "output_type": "stream",
     "text": [
      "{'pen': 300, 'ball': 500}\n",
      "800\n"
     ]
    }
   ],
   "source": [
    "# items with prices in a dictionary\n",
    "dict={}\n",
    "n=int(input('items'))\n",
    "for _ in range(n):\n",
    "    k,v=input('key val').split()\n",
    "    dict[k]=int(v)\n",
    "print(dict)\n",
    "tot=0\n",
    "for k,v in dict.items():\n",
    "    tot+=v\n",
    "print(tot)"
   ]
  },
  {
   "cell_type": "code",
   "execution_count": 57,
   "id": "3792783b",
   "metadata": {},
   "outputs": [
    {
     "name": "stdout",
     "output_type": "stream",
     "text": [
      "11\n"
     ]
    }
   ],
   "source": [
    "# largest of 3\n",
    "n1=int(input('num 1'))\n",
    "n2=int(input('num 2'))\n",
    "n3=int(input('num 3'))\n",
    "if n1>n2 and n1>n3:\n",
    "    print(n1)\n",
    "elif n2>n1:\n",
    "    print(n2)\n",
    "else:\n",
    "    print(n3)"
   ]
  },
  {
   "cell_type": "code",
   "execution_count": 63,
   "id": "2bdd9c46",
   "metadata": {},
   "outputs": [
    {
     "name": "stdout",
     "output_type": "stream",
     "text": [
      "Counter({'a': 2, 's': 2, 'f': 2, 'j': 1, 'd': 1, 'b': 1})\n"
     ]
    }
   ],
   "source": [
    "# each character appears in a string\n",
    "from collections import Counter\n",
    "c=input('string')\n",
    "print(Counter(c))"
   ]
  },
  {
   "cell_type": "code",
   "execution_count": 4,
   "id": "099ef555",
   "metadata": {},
   "outputs": [
    {
     "name": "stdout",
     "output_type": "stream",
     "text": [
      "1700\n"
     ]
    }
   ],
   "source": [
    "# electricity bill\n",
    "u=int(input('units:'))\n",
    "price=0\n",
    "if u<100:\n",
    "    price=u*5\n",
    "    print(price)\n",
    "elif u>100 and u<200:\n",
    "    a=u-100\n",
    "    price=500+a*7\n",
    "    print(price)\n",
    "else:\n",
    "    a=u-200\n",
    "    price=500+700+a*10\n",
    "    print(price)"
   ]
  },
  {
   "cell_type": "code",
   "execution_count": 7,
   "id": "1527d2fa",
   "metadata": {},
   "outputs": [
    {
     "name": "stdout",
     "output_type": "stream",
     "text": [
      "Ascending order: ['Ajay', 'Anjali', 'Kiran', 'Ravi', 'Sita']\n"
     ]
    }
   ],
   "source": [
    "# list of names in ascending order\n",
    "names = [\"Ravi\", \"Anjali\", \"Kiran\", \"Sita\", \"Ajay\"]\n",
    "names.sort()\n",
    "print(\"Ascending order:\", names)"
   ]
  },
  {
   "cell_type": "code",
   "execution_count": null,
   "id": "4229cef6",
   "metadata": {},
   "outputs": [
    {
     "name": "stdout",
     "output_type": "stream",
     "text": [
      "4321\n"
     ]
    }
   ],
   "source": [
    "# 1234->4321\n",
    "n = int(input(\"number: \"))\n",
    "rev = 0\n",
    "while n > 0:\n",
    "    digit = n % 10\n",
    "    rev = rev * 10 + digit\n",
    "    n //= 10\n",
    "print(\"Reversed:\", rev)"
   ]
  },
  {
   "cell_type": "code",
   "execution_count": 1,
   "id": "67441732",
   "metadata": {},
   "outputs": [
    {
     "name": "stdout",
     "output_type": "stream",
     "text": [
      "+:2,-:1,zeros:2\n"
     ]
    }
   ],
   "source": [
    "# positive,negative,zero numbers of list\n",
    "num=list(map(int,input().split()))\n",
    "pc,nc,z=0,0,0\n",
    "for i in num:\n",
    "    if i>0:\n",
    "        pc+=1\n",
    "    elif i==0:\n",
    "        z+=1\n",
    "    else:\n",
    "        nc+=1\n",
    "print(f'+:{pc},-:{nc},zeros:{z}')"
   ]
  },
  {
   "cell_type": "code",
   "execution_count": null,
   "id": "9653c25a",
   "metadata": {},
   "outputs": [
    {
     "name": "stdout",
     "output_type": "stream",
     "text": [
      "2 attempts left\n",
      "Correct\n"
     ]
    }
   ],
   "source": [
    "# 3 attempts to enter correct PIN\n",
    "pin = 1212\n",
    "c = 0\n",
    "while c < 3:\n",
    "    n = int(input('PIN:'))\n",
    "    if n == pin:\n",
    "        print(\"Correct\")\n",
    "        break\n",
    "    else:\n",
    "        c += 1\n",
    "        if c == 3:\n",
    "            print(\"Exceeded attempts\")\n",
    "        else:\n",
    "            print(f\"{3-c} attempts left\")\n"
   ]
  },
  {
   "cell_type": "code",
   "execution_count": 5,
   "id": "c7f49ca6",
   "metadata": {},
   "outputs": [
    {
     "name": "stdout",
     "output_type": "stream",
     "text": [
      "Error: Cannot divide by zero\n"
     ]
    }
   ],
   "source": [
    "# two numbers and divides them\n",
    "n1 = int(input(\"number1: \"))\n",
    "n2 = int(input(\"number2: \"))\n",
    "try:\n",
    "    result=n1/n2\n",
    "    print(\"Result:\", result)\n",
    "except ZeroDivisionError:\n",
    "    print(\"Error: Cannot divide by zero\")"
   ]
  },
  {
   "cell_type": "code",
   "execution_count": 6,
   "id": "76f30151",
   "metadata": {},
   "outputs": [
    {
     "name": "stdout",
     "output_type": "stream",
     "text": [
      "Error:integers only.\n"
     ]
    }
   ],
   "source": [
    "# ValueError and ZeroDivisionError\n",
    "try:\n",
    "    n1 = int(input(\"number1: \"))\n",
    "    n2 = int(input(\"number2: \"))\n",
    "    result = n1/n2\n",
    "    print(\"Result:\", result)\n",
    "except ValueError:\n",
    "    print(\"Error:integers only.\")\n",
    "except ZeroDivisionError:\n",
    "    print(\"Error: Cannot divide by zero.\")"
   ]
  },
  {
   "cell_type": "code",
   "execution_count": null,
   "id": "41ded196",
   "metadata": {},
   "outputs": [
    {
     "name": "stdout",
     "output_type": "stream",
     "text": [
      "Error: amount>balance.\n"
     ]
    }
   ],
   "source": [
    "# Problem: If withdrawal amount is greater than balance, raise an exception.\n",
    "class InsufficientBalanceError(Exception):\n",
    "    pass\n",
    "bal= 5000\n",
    "try:\n",
    "    amt=int(input(\"amount: \"))\n",
    "    if amt>bal:\n",
    "        raise InsufficientBalanceError(\"amount>balance.\")\n",
    "    else:\n",
    "        balance -= amount\n",
    "        print(f\"Withdrawal successful! Remaining balance: {bal}\")\n",
    "except ValueError:\n",
    "    print(\"Error: Please enter a valid number.\")\n",
    "except InsufficientBalanceError as e:\n",
    "    print(\"Error:\", e)"
   ]
  },
  {
   "cell_type": "code",
   "execution_count": null,
   "id": "84497242",
   "metadata": {},
   "outputs": [
    {
     "name": "stdout",
     "output_type": "stream",
     "text": [
      "error\n"
     ]
    }
   ],
   "source": [
    "# Problem: Calculate total price, handle invalid input, and always show \"Bill processing finished\"\n",
    "try:\n",
    "    u=int(input('units:'))\n",
    "    price=0\n",
    "    if u<100:\n",
    "        price=u*5\n",
    "        print('Bill processing finished')\n",
    "        print(price)\n",
    "    elif u>100 and u<200:\n",
    "        a=u-100\n",
    "        price=500+a*7\n",
    "        print('Bill processing finished')\n",
    "        print(price)\n",
    "    else:\n",
    "        a=u-200\n",
    "        price=500+700+a*10\n",
    "        print('Bill processing finished')\n",
    "        print(price)\n",
    "except Exception as e:\n",
    "    print('Bill processing finished')\n",
    "    print('error')"
   ]
  }
 ],
 "metadata": {
  "kernelspec": {
   "display_name": "Python 3",
   "language": "python",
   "name": "python3"
  },
  "language_info": {
   "codemirror_mode": {
    "name": "ipython",
    "version": 3
   },
   "file_extension": ".py",
   "mimetype": "text/x-python",
   "name": "python",
   "nbconvert_exporter": "python",
   "pygments_lexer": "ipython3",
   "version": "3.11.0"
  }
 },
 "nbformat": 4,
 "nbformat_minor": 5
}
