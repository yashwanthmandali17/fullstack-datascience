{
 "cells": [
  {
   "cell_type": "code",
   "execution_count": 5,
   "id": "52e6f4e4",
   "metadata": {},
   "outputs": [
    {
     "name": "stdout",
     "output_type": "stream",
     "text": [
      "before\n",
      "12\n",
      "4\n",
      "after\n",
      "4\n",
      "12\n"
     ]
    }
   ],
   "source": [
    "# 1\n",
    "a=int(input('enter 1st number'))\n",
    "b=int(input('enter 2nd number'))\n",
    "print('before')\n",
    "print(a)\n",
    "print(b)\n",
    "a=a+b\n",
    "b=a-b\n",
    "a=a-b\n",
    "print('after')\n",
    "print(a)\n",
    "print(b)"
   ]
  },
  {
   "cell_type": "code",
   "execution_count": null,
   "id": "ce18849a",
   "metadata": {},
   "outputs": [
    {
     "name": "stdout",
     "output_type": "stream",
     "text": [
      "y\n",
      "u\n",
      "i\n",
      "o\n",
      "p\n"
     ]
    }
   ],
   "source": [
    "# 2\n",
    "a=input('enter word')\n",
    "b=len(a)\n",
    "for i in range(b-1,-1,-1):\n",
    "    print(a[i])"
   ]
  },
  {
   "cell_type": "code",
   "execution_count": null,
   "id": "45339279",
   "metadata": {},
   "outputs": [
    {
     "name": "stdout",
     "output_type": "stream",
     "text": [
      "153 Armstrong number\n"
     ]
    }
   ],
   "source": [
    "# 3\n",
    "num = int(input(\"number: \"))\n",
    "power = len(str(num))\n",
    "temp = num\n",
    "total = 0\n",
    "while temp > 0:\n",
    "    digit = temp % 10\n",
    "    total += digit**power\n",
    "    temp //= 10\n",
    "if num == total:\n",
    "    print(f\"{num} Armstrong number\")\n",
    "else:\n",
    "    print(f\"{num} NOT an Armstrong number\")\n",
    "\n"
   ]
  },
  {
   "cell_type": "code",
   "execution_count": null,
   "id": "8e427dc9",
   "metadata": {},
   "outputs": [
    {
     "name": "stdout",
     "output_type": "stream",
     "text": [
      "2\n",
      "22\n"
     ]
    }
   ],
   "source": [
    "# 4\n",
    "a=input()\n",
    "oc=0\n",
    "cc=0\n",
    "for i in a:\n",
    "    if (i=='a' or i=='e' or i=='i' or i=='o' or i=='u'):\n",
    "        oc=oc+1\n",
    "    else:\n",
    "        cc=cc+1\n",
    "print(oc)\n",
    "print(cc)"
   ]
  },
  {
   "cell_type": "code",
   "execution_count": null,
   "id": "e9f585e2",
   "metadata": {},
   "outputs": [
    {
     "name": "stdout",
     "output_type": "stream",
     "text": [
      "5x1=5\n",
      "5x2=10\n",
      "5x3=15\n",
      "5x4=20\n",
      "5x5=25\n",
      "5x6=30\n",
      "5x7=35\n",
      "5x8=40\n",
      "5x9=45\n",
      "5x10=50\n"
     ]
    }
   ],
   "source": [
    "# 5\n",
    "a=int(input())\n",
    "for j in range(1,11):\n",
    "    print(str(a)+\"x\"+str(j)+\"=\"+str(a*j))"
   ]
  },
  {
   "cell_type": "code",
   "execution_count": null,
   "id": "0644b9c2",
   "metadata": {},
   "outputs": [
    {
     "name": "stdout",
     "output_type": "stream",
     "text": [
      "Leap year\n"
     ]
    }
   ],
   "source": [
    "# 6\n",
    "year = int(input(\"Enter year: \"))\n",
    "if (year % 400 == 0) or (year % 4 == 0 and year % 100 != 0):\n",
    "    print(\"Leap year\")\n",
    "else:\n",
    "    print(\"Not a leap year\")\n"
   ]
  },
  {
   "cell_type": "code",
   "execution_count": null,
   "id": "a1fab90a",
   "metadata": {},
   "outputs": [
    {
     "name": "stdout",
     "output_type": "stream",
     "text": [
      "30\n"
     ]
    }
   ],
   "source": [
    "# 7\n",
    "scores=[]\n",
    "for i in range(5):\n",
    "    val=int(input('enter score'))\n",
    "    scores.append(val)\n",
    "print(max(scores))"
   ]
  },
  {
   "cell_type": "code",
   "execution_count": null,
   "id": "ad273017",
   "metadata": {},
   "outputs": [
    {
     "name": "stdout",
     "output_type": "stream",
     "text": [
      "palindrome\n"
     ]
    }
   ],
   "source": [
    "# 8\n",
    "n=input('enter number')\n",
    "temp=n[::-1]\n",
    "if (n==temp):\n",
    "    print('palindrome')\n",
    "else:\n",
    "    print('not')"
   ]
  },
  {
   "cell_type": "code",
   "execution_count": null,
   "id": "468d7042",
   "metadata": {},
   "outputs": [
    {
     "name": "stdout",
     "output_type": "stream",
     "text": [
      "120\n"
     ]
    }
   ],
   "source": [
    "# 9\n",
    "def fact(num):\n",
    "    if num == 0 or num == 1:\n",
    "        return 1\n",
    "    else:\n",
    "        return num * fact(num - 1)\n",
    "n = int(input(\"Enter number: \"))\n",
    "print(fact(n))"
   ]
  },
  {
   "cell_type": "code",
   "execution_count": null,
   "id": "960076bc",
   "metadata": {},
   "outputs": [
    {
     "name": "stdout",
     "output_type": "stream",
     "text": [
      "15 30 45 60 75 90 "
     ]
    }
   ],
   "source": [
    "# 10\n",
    "for i in range(1, 101):\n",
    "    if i % 3 == 0 and i % 5 == 0:\n",
    "        print(i, end=\" \")"
   ]
  },
  {
   "cell_type": "code",
   "execution_count": null,
   "id": "29dde54f",
   "metadata": {},
   "outputs": [
    {
     "name": "stdout",
     "output_type": "stream",
     "text": [
      "Not Prime\n"
     ]
    }
   ],
   "source": [
    "# 11\n",
    "n = int(input(\"Enter number: \"))\n",
    "if n > 1:\n",
    "    for i in range(2, int(n**0.5)+1):\n",
    "        if n % i == 0:\n",
    "            print(\"Not Prime\")\n",
    "            break\n",
    "    else:\n",
    "        print(\"Prime\")\n",
    "else:\n",
    "    print(\"Not Prime\")\n"
   ]
  },
  {
   "cell_type": "code",
   "execution_count": null,
   "id": "4951fe29",
   "metadata": {},
   "outputs": [
    {
     "name": "stdout",
     "output_type": "stream",
     "text": [
      "Second highest: 40\n"
     ]
    }
   ],
   "source": [
    "# 12\n",
    "l = []\n",
    "for i in range(5):\n",
    "    s = int(input(\"Enter score: \"))\n",
    "    l.append(s)\n",
    "l.remove(max(l))\n",
    "print(\"Second highest:\", max(l))"
   ]
  },
  {
   "cell_type": "code",
   "execution_count": null,
   "id": "94d94eb9",
   "metadata": {},
   "outputs": [
    {
     "name": "stdout",
     "output_type": "stream",
     "text": [
      "Even numbers: [2, 4, 6, 8, 10, 12, 14, 16, 18, 20, 22, 24, 26, 28, 30, 32, 34, 36, 38, 40, 42, 44, 46, 48, 50]\n",
      "Sum of even numbers: 650\n"
     ]
    }
   ],
   "source": [
    "# 13\n",
    "l = []\n",
    "s = 0\n",
    "for i in range(1, 51):\n",
    "    if i % 2 == 0:\n",
    "        l.append(i)\n",
    "        s += i\n",
    "print(\"Even numbers:\", l)\n",
    "print(\"Sum of even numbers:\", s)\n"
   ]
  },
  {
   "cell_type": "code",
   "execution_count": null,
   "id": "d97f53c8",
   "metadata": {},
   "outputs": [
    {
     "name": "stdout",
     "output_type": "stream",
     "text": [
      "Uppercase: 3 Lowercase: 9\n"
     ]
    }
   ],
   "source": [
    "# 14\n",
    "s = input(\"Enter string: \")\n",
    "u = 0\n",
    "l = 0\n",
    "for ch in s:\n",
    "    if ch.isupper():\n",
    "        u += 1\n",
    "    elif ch.islower():\n",
    "        l += 1\n",
    "print(\"Uppercase:\", u, \"Lowercase:\", l)\n"
   ]
  },
  {
   "cell_type": "code",
   "execution_count": null,
   "id": "ba9d3e5c",
   "metadata": {},
   "outputs": [
    {
     "name": "stdout",
     "output_type": "stream",
     "text": [
      "0 1 1 2 3 5 8 "
     ]
    }
   ],
   "source": [
    "# 15\n",
    "n = int(input(\"Enter terms: \"))\n",
    "a, b = 0, 1\n",
    "for _ in range(n):\n",
    "    print(a, end=\" \")\n",
    "    a, b = b, a+b\n"
   ]
  },
  {
   "cell_type": "code",
   "execution_count": null,
   "id": "0e74fe16",
   "metadata": {},
   "outputs": [
    {
     "name": "stdout",
     "output_type": "stream",
     "text": [
      "No anagrams\n"
     ]
    }
   ],
   "source": [
    "# 16\n",
    "a = input(\"Enter string1: \")\n",
    "b = input(\"Enter string2: \")\n",
    "\n",
    "if sorted(a) == sorted(b):\n",
    "    print(\"Yes anagrams\")\n",
    "else:\n",
    "    print(\"No anagrams\")\n"
   ]
  },
  {
   "cell_type": "code",
   "execution_count": null,
   "id": "f107c3e1",
   "metadata": {},
   "outputs": [
    {
     "name": "stdout",
     "output_type": "stream",
     "text": [
      "23 is NOT a Perfect number\n"
     ]
    }
   ],
   "source": [
    "# 17\n",
    "n = int(input(\"Enter number: \"))\n",
    "div_sum = 0\n",
    "for i in range(1, n):\n",
    "    if n % i == 0:\n",
    "        div_sum += i\n",
    "if div_sum == n:\n",
    "    print(n, \"is a Perfect number\")\n",
    "else:\n",
    "    print(n, \"is NOT a Perfect number\")\n"
   ]
  },
  {
   "cell_type": "code",
   "execution_count": null,
   "id": "3ee0dbb6",
   "metadata": {},
   "outputs": [
    {
     "name": "stdout",
     "output_type": "stream",
     "text": [
      "Percentage: 20.0 Grade: Fail\n"
     ]
    }
   ],
   "source": [
    "# 18\n",
    "marks = [int(input(\"Enter marks: \")) for i in range(5)]\n",
    "percent = sum(marks) / 5.0\n",
    "match percent:\n",
    "    case p if p >= 90:\n",
    "        grade = \"A\"\n",
    "    case p if p >= 75:\n",
    "        grade = \"B\"\n",
    "    case p if p >= 50:\n",
    "        grade = \"C\"\n",
    "    case _:\n",
    "        grade = \"Fail\"\n",
    "print(\"Percentage:\", percent, \"Grade:\", grade)\n"
   ]
  },
  {
   "cell_type": "code",
   "execution_count": null,
   "id": "d1150ae1",
   "metadata": {},
   "outputs": [
    {
     "name": "stdout",
     "output_type": "stream",
     "text": [
      "2 3 5 7 11 13 17 19 23 29 31 37 41 43 47 53 59 61 67 71 73 79 83 89 97 "
     ]
    }
   ],
   "source": [
    "#19\n",
    "for n in range(2, 101):\n",
    "    for i in range(2, int(n**0.5)+1):\n",
    "        if n % i == 0:\n",
    "            break\n",
    "    else:\n",
    "        print(n, end=\" \")"
   ]
  },
  {
   "cell_type": "code",
   "execution_count": null,
   "id": "2e1629d2",
   "metadata": {},
   "outputs": [
    {
     "name": "stdout",
     "output_type": "stream",
     "text": [
      "Word count: 3\n"
     ]
    }
   ],
   "source": [
    "# 20\n",
    "s = input(\"Enter sentence: \").strip()\n",
    "count = 1 if s else 0\n",
    "for ch in s:\n",
    "    if ch == \" \":\n",
    "        count += 1\n",
    "print(\"Word count:\", count)"
   ]
  },
  {
   "cell_type": "code",
   "execution_count": null,
   "id": "82fa2250",
   "metadata": {},
   "outputs": [
    {
     "name": "stdout",
     "output_type": "stream",
     "text": [
      "450.0\n"
     ]
    }
   ],
   "source": [
    "# 21\n",
    "tp=int(input('price:'))\n",
    "age=int(input('Age'))\n",
    "status=input('student(yes/no):')\n",
    "if (status==\"yes\" and age<60):\n",
    "    tp=tp*0.8\n",
    "else:\n",
    "    tp=tp*0.9\n",
    "print(tp)"
   ]
  },
  {
   "cell_type": "code",
   "execution_count": null,
   "id": "311275cd",
   "metadata": {},
   "outputs": [
    {
     "name": "stdout",
     "output_type": "stream",
     "text": [
      "250\n"
     ]
    }
   ],
   "source": [
    "# 22\n",
    "cart=int(input('value'))\n",
    "if cart<500:\n",
    "    cart=cart+50\n",
    "else:\n",
    "    cart=cart+0\n",
    "print(cart)"
   ]
  },
  {
   "cell_type": "code",
   "execution_count": null,
   "id": "1a3067da",
   "metadata": {},
   "outputs": [
    {
     "name": "stdout",
     "output_type": "stream",
     "text": [
      "B\n"
     ]
    }
   ],
   "source": [
    "# 23\n",
    "marks=int(input('marks'))\n",
    "match marks:\n",
    "    case m if m>=90:\n",
    "        print('A')\n",
    "    case m if m>=75:\n",
    "        print('B')\n",
    "    case m if m>=50:\n",
    "        print('C')\n",
    "    case m if m<50:\n",
    "        print('F')"
   ]
  },
  {
   "cell_type": "code",
   "execution_count": null,
   "id": "d36a32e9",
   "metadata": {},
   "outputs": [
    {
     "name": "stdout",
     "output_type": "stream",
     "text": [
      "105.0\n"
     ]
    }
   ],
   "source": [
    "# 24\n",
    "bill=int(input('bill:'))\n",
    "if(bill<500):\n",
    "    bill=bill*0.05\n",
    "elif(bill>1000):\n",
    "    bill=bill*0.10\n",
    "else:\n",
    "    bill=bill*0.15\n",
    "print(bill)"
   ]
  },
  {
   "cell_type": "code",
   "execution_count": null,
   "id": "21f10efa",
   "metadata": {},
   "outputs": [
    {
     "name": "stdout",
     "output_type": "stream",
     "text": [
      "2500\n"
     ]
    }
   ],
   "source": [
    "# 25\n",
    "months=int(input('months:'))\n",
    "if months == 1:\n",
    "    print(\"₹500\")\n",
    "elif months == 6:\n",
    "    print(\"₹2700\")\n",
    "elif months == 12:\n",
    "    print(\"₹5000\")\n",
    "else:\n",
    "    print(months * 500)"
   ]
  },
  {
   "cell_type": "code",
   "execution_count": null,
   "id": "e996175d",
   "metadata": {},
   "outputs": [
    {
     "name": "stdout",
     "output_type": "stream",
     "text": [
      "Eligible\n"
     ]
    }
   ],
   "source": [
    "# 26\n",
    "total = int(input(\"total classes: \"))\n",
    "attended = int(input(\"attended classes: \"))\n",
    "percent = (attended / total) * 100\n",
    "print(\"Eligible\" if percent >= 75 else \"Not Eligible\")\n"
   ]
  },
  {
   "cell_type": "code",
   "execution_count": 1,
   "id": "ce4a8df0",
   "metadata": {},
   "outputs": [
    {
     "name": "stdout",
     "output_type": "stream",
     "text": [
      "Transaction successful\n"
     ]
    }
   ],
   "source": [
    "# 27\n",
    "amt = int(input(\"Enter withdrawal amount: \"))\n",
    "print(\"Transaction successful\" if amt % 100 == 0 else \"Transaction failed\")"
   ]
  },
  {
   "cell_type": "code",
   "execution_count": 2,
   "id": "e7b4fc89",
   "metadata": {},
   "outputs": [
    {
     "name": "stdout",
     "output_type": "stream",
     "text": [
      "Too hot, stay indoors!\n"
     ]
    }
   ],
   "source": [
    "# 28\n",
    "temp = int(input(\"Enter temperature: \"))\n",
    "if temp > 35:\n",
    "    print(\"Too hot, stay indoors!\")\n",
    "elif temp >= 20:\n",
    "    print(\"go out!\")\n",
    "else:\n",
    "    print(\"cold, wear warm clothes!\")"
   ]
  },
  {
   "cell_type": "code",
   "execution_count": 3,
   "id": "d20d271c",
   "metadata": {},
   "outputs": [
    {
     "name": "stdout",
     "output_type": "stream",
     "text": [
      "Fine: 100\n"
     ]
    }
   ],
   "source": [
    "# 29\n",
    "days = int(input(\"Enter late days: \"))\n",
    "if 1 <= days <= 5:\n",
    "    fine = 10\n",
    "elif 6 <= days <= 10:\n",
    "    fine = 50\n",
    "elif days > 10:\n",
    "    fine = 100\n",
    "else:\n",
    "    fine = 0\n",
    "print(\"Fine:\", fine)"
   ]
  },
  {
   "cell_type": "code",
   "execution_count": 4,
   "id": "b115e4ae",
   "metadata": {},
   "outputs": [
    {
     "name": "stdout",
     "output_type": "stream",
     "text": [
      "Bill amount: 175\n"
     ]
    }
   ],
   "source": [
    "# 30\n",
    "units=int(input(\"Enter units consumed: \"))\n",
    "if units <= 100:\n",
    "    bill = units * 5\n",
    "elif units <= 200:\n",
    "    bill = 100*5 + (units-100)*7\n",
    "else:\n",
    "    bill = 100*5 + 100*7 + (units-200)*10\n",
    "print(\"Bill amount:\", bill)"
   ]
  }
 ],
 "metadata": {
  "kernelspec": {
   "display_name": "Python 3",
   "language": "python",
   "name": "python3"
  },
  "language_info": {
   "codemirror_mode": {
    "name": "ipython",
    "version": 3
   },
   "file_extension": ".py",
   "mimetype": "text/x-python",
   "name": "python",
   "nbconvert_exporter": "python",
   "pygments_lexer": "ipython3",
   "version": "3.11.0"
  }
 },
 "nbformat": 4,
 "nbformat_minor": 5
}
