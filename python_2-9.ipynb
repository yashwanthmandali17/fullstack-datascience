{
 "cells": [
  {
   "cell_type": "code",
   "execution_count": null,
   "id": "2b96602a",
   "metadata": {},
   "outputs": [
    {
     "name": "stdout",
     "output_type": "stream",
     "text": [
      "total: 310\n"
     ]
    }
   ],
   "source": [
    "# 1\n",
    "n=int(input('number of items:'))\n",
    "cost=[]\n",
    "for i in range(n):\n",
    "    item_price=int(input('enter price'))\n",
    "    quantity=int(input('enter quantity'))\n",
    "    tot=item_price*quantity\n",
    "    cost.append(tot)\n",
    "bill=sum(cost)\n",
    "print('total:',bill)"
   ]
  },
  {
   "cell_type": "code",
   "execution_count": null,
   "id": "6fe7d747",
   "metadata": {},
   "outputs": [
    {
     "name": "stdout",
     "output_type": "stream",
     "text": [
      "19\n"
     ]
    }
   ],
   "source": [
    "# 2\n",
    "n1=int(input('1st number'))\n",
    "n2=int(input('2nd number'))\n",
    "ch=input(\"enter choice\")\n",
    "match ch:\n",
    "    case c if c==\"add\":\n",
    "        print(n1+n2)\n",
    "    case c if c==\"sub\":\n",
    "        print(n1-n2)\n",
    "    case c if c==\"mul\":\n",
    "        print(n1*n2)\n",
    "    case c if c==\"div\":\n",
    "        print(n1//n2)\n",
    "    case c if c==\"mod\":\n",
    "        print(n1%n2)\n"
   ]
  },
  {
   "cell_type": "code",
   "execution_count": 8,
   "id": "41321ab6",
   "metadata": {},
   "outputs": [
    {
     "name": "stdout",
     "output_type": "stream",
     "text": [
      "A\n"
     ]
    }
   ],
   "source": [
    "# 3\n",
    "n1=int(input('marks'))\n",
    "match n1:\n",
    "    case c if c>=90:\n",
    "        print(\"A+\")\n",
    "    case c if c>=80:\n",
    "        print(\"A\")\n",
    "    case c if c>=70:\n",
    "        print(\"B\")\n",
    "    case c if c>=60:\n",
    "        print(\"C\")\n",
    "    case c if c<60:\n",
    "        print(\"F\")\n"
   ]
  },
  {
   "cell_type": "code",
   "execution_count": 10,
   "id": "85921581",
   "metadata": {},
   "outputs": [
    {
     "name": "stdout",
     "output_type": "stream",
     "text": [
      "90\n",
      "45\n",
      "71\n"
     ]
    }
   ],
   "source": [
    "# 4\n",
    "marks=[]\n",
    "n=int(input('size'))\n",
    "for i in range(n):\n",
    "    val=int(input('enter score'))\n",
    "    marks.append(val)\n",
    "print(max(marks))\n",
    "print(min(marks))\n",
    "print(sum(marks)//n)"
   ]
  },
  {
   "cell_type": "code",
   "execution_count": 11,
   "id": "62701727",
   "metadata": {},
   "outputs": [
    {
     "name": "stdout",
     "output_type": "stream",
     "text": [
      "9123456780\n"
     ]
    }
   ],
   "source": [
    "# 5\n",
    "Phonebook = {\"Suhel\": 9876543210, \"Ravi\": 9123456780, \"Anita\": 9988776655}\n",
    "search=input('name:')\n",
    "print(Phonebook[search])"
   ]
  },
  {
   "cell_type": "code",
   "execution_count": 2,
   "id": "dad5cdcc",
   "metadata": {},
   "outputs": [
    {
     "name": "stdout",
     "output_type": "stream",
     "text": [
      "2 19 6\n"
     ]
    }
   ],
   "source": [
    "# 6\n",
    "sent=input('enter sentence:')\n",
    "wc=0\n",
    "cc=0\n",
    "vc=0\n",
    "for ch in sent:\n",
    "    if ch==' ':\n",
    "        wc+=1\n",
    "    elif ch in ['a','e','i','o','u']:\n",
    "        vc+=1\n",
    "    else:\n",
    "        cc=len(sent)\n",
    "print(wc,cc,vc)"
   ]
  },
  {
   "cell_type": "code",
   "execution_count": null,
   "id": "c7a46bc0",
   "metadata": {},
   "outputs": [
    {
     "name": "stdout",
     "output_type": "stream",
     "text": [
      "512.5000000000002\n"
     ]
    }
   ],
   "source": [
    "# 7\n",
    "pri=int(input('principle amt:'))\n",
    "rate=int(input('rate:'))\n",
    "time=int(input('time:'))\n",
    "int_type=input('enter type:')\n",
    "if int_type==\"Compound\":\n",
    "    ci = pri* ((1 + rate/100)**time - 1)\n",
    "    print(ci)\n",
    "elif int_type=='simple':\n",
    "    si = (pri*rate*time)/100\n",
    "    print(si)\n",
    "else:\n",
    "    print('NA')"
   ]
  },
  {
   "cell_type": "code",
   "execution_count": null,
   "id": "0ea62ac2",
   "metadata": {},
   "outputs": [
    {
     "name": "stdout",
     "output_type": "stream",
     "text": [
      "Encrypted Message: KHOOR\n"
     ]
    }
   ],
   "source": [
    "# 8\n",
    "message = input(\"message (UPPERCASE): \")\n",
    "shift = int(input(\"shift key: \"))\n",
    "encrypted_message = \"\"\n",
    "for char in message:\n",
    "    if char.isalpha():\n",
    "        encrypted_char = chr((ord(char) - 65 + shift) % 26 + 65)\n",
    "        encrypted_message += encrypted_char\n",
    "    else:\n",
    "        encrypted_message += char\n",
    "print(encrypted_message)"
   ]
  },
  {
   "cell_type": "code",
   "execution_count": 5,
   "id": "5f5167e2",
   "metadata": {},
   "outputs": [
    {
     "name": "stdout",
     "output_type": "stream",
     "text": [
      "success\n"
     ]
    }
   ],
   "source": [
    "# 9\n",
    "pa=1212\n",
    "pin=int(input('PIN:'))\n",
    "bal=int(input('balance'))\n",
    "wi=int(input('withdraw'))\n",
    "if pin==pa:\n",
    "    if bal>wi:\n",
    "        print('success')\n",
    "        bal=bal-wi\n",
    "    else:\n",
    "        print('in')\n",
    "else:\n",
    "    print('Wrong pin')"
   ]
  },
  {
   "cell_type": "code",
   "execution_count": 6,
   "id": "c60b5a48",
   "metadata": {},
   "outputs": [
    {
     "name": "stdout",
     "output_type": "stream",
     "text": [
      "book added\n",
      "tot 4\n"
     ]
    }
   ],
   "source": [
    "# 10\n",
    "books=[\"Python Basics\", \"Data Science\", \"AI Fundamentals\"]\n",
    "ch=input('choice')\n",
    "match ch:\n",
    "    case c if c==\"add\":\n",
    "        book=input('name')\n",
    "        books.append(book)\n",
    "        print('book added')\n",
    "    case c if c=='remove':\n",
    "        b=input('name')\n",
    "        books.remove(b)\n",
    "        print('book rm')\n",
    "    case c if c=='display':\n",
    "        print(books)\n",
    "print('tot',len(books))"
   ]
  }
 ],
 "metadata": {
  "kernelspec": {
   "display_name": "Python 3",
   "language": "python",
   "name": "python3"
  },
  "language_info": {
   "codemirror_mode": {
    "name": "ipython",
    "version": 3
   },
   "file_extension": ".py",
   "mimetype": "text/x-python",
   "name": "python",
   "nbconvert_exporter": "python",
   "pygments_lexer": "ipython3",
   "version": "3.11.0"
  }
 },
 "nbformat": 4,
 "nbformat_minor": 5
}
